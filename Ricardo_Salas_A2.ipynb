{
 "cells": [
  {
   "cell_type": "markdown",
   "id": "73bf9bbb",
   "metadata": {},
   "source": [
    "Implementation of ID3 Decision tree on the titanic data Set.\n",
    "It is a classification algorithm that follows a greedy approach by selecting a best attribute that yields maximum Information Gain(IG) or minimum Entropy(H)."
   ]
  },
  {
   "cell_type": "code",
   "execution_count": 1,
   "id": "3d68b530",
   "metadata": {},
   "outputs": [],
   "source": [
    "import pandas as pd\n",
    "import numpy as np\n",
    "import math\n",
    "\n",
    "import graphviz\n",
    "import pickle\n",
    "from sklearn import tree\n",
    "from sklearn.feature_extraction import DictVectorizer\n",
    "from sklearn.model_selection import cross_val_score\n",
    "from sklearn.tree import DecisionTreeClassifier"
   ]
  },
  {
   "cell_type": "code",
   "execution_count": 2,
   "id": "13f6e86a",
   "metadata": {},
   "outputs": [],
   "source": [
    "training_data = pd.read_csv(\"train.csv\")\n",
    "testing_data = pd.read_csv(\"test.csv\")"
   ]
  },
  {
   "cell_type": "code",
   "execution_count": 3,
   "id": "c7bd4291",
   "metadata": {},
   "outputs": [],
   "source": [
    "def clean_data(the_data):\n",
    "    # Drops non relevant columns\n",
    "    the_data = the_data.drop(['PassengerId', 'Name', 'Ticket', 'Fare', 'Cabin', 'Embarked'], axis = 1)\n",
    "    \n",
    "    # Fills missing ages to the median of availables ages\n",
    "    the_data[\"Age\"] = the_data[\"Age\"].fillna(the_data[\"Age\"].mean())\n",
    "\n",
    "    # Convert female and males to 0's and 1's\n",
    "    the_data['Sex'] = the_data['Sex'].map({'female':0, 'male':1})\n",
    "\n",
    "    # Toddler - 0\n",
    "    # Child - 1\n",
    "    # Adult - 2\n",
    "    # Elderly - 3\n",
    "    the_data[\"Age\"] = pd.cut(the_data[\"Age\"],bins=[0,2,17,65,99],labels=[0, 1, 2, 3])\n",
    "\n",
    "    # Categorizes the number of siblings to having no siblings or one or more\n",
    "    the_data[\"SibSp\"] = pd.cut(the_data[\"SibSp\"],bins=[-1,0,999],labels=[0,1])\n",
    "    return the_data"
   ]
  },
  {
   "cell_type": "code",
   "execution_count": 4,
   "id": "131f1397",
   "metadata": {},
   "outputs": [],
   "source": [
    "training_data = clean_data(training_data)\n",
    "testing_data = clean_data(testing_data)"
   ]
  },
  {
   "cell_type": "code",
   "execution_count": 5,
   "id": "0bdddc5e",
   "metadata": {},
   "outputs": [],
   "source": [
    "def calc_entropy(column):\n",
    "    \n",
    "    # Compute the counts of each unique value in the column\n",
    "    counts = np.bincount(column)\n",
    "    # Divide by the total column length to get a probability\n",
    "    probabilities = counts / len(column)\n",
    "    \n",
    "    # Initialize the entropy to 0\n",
    "    entropy = 0\n",
    "    # Loop through the probabilities, and add each one to the total entropy\n",
    "    for prob in probabilities:\n",
    "        if prob > 0:\n",
    "            # use log from math and set base to 2\n",
    "            entropy += prob * math.log(prob, 2)\n",
    "\n",
    "    return -entropy"
   ]
  },
  {
   "cell_type": "code",
   "execution_count": 6,
   "id": "82c63493",
   "metadata": {},
   "outputs": [],
   "source": [
    "def calc_information_gain(data, split_name, target_name):\n",
    "    # Calculate the original entropy\n",
    "    original_entropy = calc_entropy(data[target_name])\n",
    "    \n",
    "    #Find the unique values in the column\n",
    "    values = data[split_name].unique()\n",
    "\n",
    "    # Create the subsets of the data by filtering data based on the unique values\n",
    "    splits = []\n",
    "    for value in values:\n",
    "        split = data[data[split_name] == value]\n",
    "        splits.append(split)\n",
    "    \n",
    "    # Loop through the splits and calculate the subset entropies\n",
    "    to_subtract = 0\n",
    "    for subset in splits:\n",
    "        prob = (subset.shape[0] / data.shape[0]) \n",
    "        to_subtract += prob * calc_entropy(subset[target_name])\n",
    "    \n",
    "    # Return information gain\n",
    "    return original_entropy - to_subtract\n"
   ]
  },
  {
   "cell_type": "code",
   "execution_count": 7,
   "id": "c2e86d46",
   "metadata": {},
   "outputs": [],
   "source": [
    "def highest_info_gain(columns):\n",
    "  #Intialize an empty dictionary for information gains\n",
    "  information_gains = {}\n",
    "  \n",
    "  #Iterate through each column name in our list\n",
    "  for col in columns:\n",
    "    #Find the information gain for the column\n",
    "    information_gain = calc_information_gain(data, col, 'Survived')\n",
    "    #Add the information gain to our dictionary using the column name as the ekey                                         \n",
    "    information_gains[col] = information_gain\n",
    "  \n",
    "  #Return the key with the highest value\n",
    "  return max(information_gains, key=information_gains.get)"
   ]
  },
  {
   "cell_type": "code",
   "execution_count": 8,
   "id": "674e2e22",
   "metadata": {},
   "outputs": [],
   "source": [
    "def make_tree(max_depth, data, the_data, attributes, target_attribute_name=\"Survived\", parent_node_class = None):\n",
    "    \n",
    "    # Return element if entropy is 1 (no mix with other values)\n",
    "    if len(np.unique(data[target_attribute_name])) <= 1:\n",
    "        return np.unique(data[target_attribute_name])[0]\n",
    "    \n",
    "    # Return target attribute if dataset is empty\n",
    "    elif len(data) == 2:\n",
    "        return np.unique(the_data[target_attribute_name])[np.argmax(np.unique(the_data[target_attribute_name],return_counts=True)[1])]\n",
    "    \n",
    "    # Return target feature if attribute space is empty\n",
    "    elif len(attributes) == 0:\n",
    "        return parent_node_class\n",
    "    \n",
    "    else:\n",
    "    #Set the default value for this node\n",
    "        parent_node_class = np.unique(data[target_attribute_name])[np.argmax(np.unique(data[target_attribute_name],return_counts=True)[1])]\n",
    "        \n",
    "        #Splits dataset\n",
    "        item_values = [calc_information_gain(data,feature,target_attribute_name) for feature in attributes] \n",
    "        best_attribute_index = np.argmax(item_values)\n",
    "        best_attribute = attributes[best_attribute_index]\n",
    "        \n",
    "        # Initialize tree\n",
    "        tree = {best_attribute:{}}\n",
    "        \n",
    "        # Attribute with largest information gain is removed\n",
    "        attributes = [i for i in attributes if i != best_attribute]\n",
    "        \n",
    "        for value in np.unique(data[best_attribute]):\n",
    "            # stops when reached maximum depth. Returns the developed tree so far\n",
    "            if max_depth == 0:\n",
    "                return (tree)\n",
    "            value = value\n",
    "            \n",
    "            # decrement maximum depth for every created tree level\n",
    "            max_depth = max_depth - 1\n",
    "            \n",
    "            #Split the dataset through the feature with largest information gain\n",
    "            sub_data = data.where(data[best_attribute] == value).dropna()\n",
    "            \n",
    "            #Call the ID3 algorithm for each of those sub_datasets with the new parameters\n",
    "            subtree = make_tree(max_depth, sub_data,data,attributes,target_attribute_name,parent_node_class)\n",
    "            \n",
    "            #Add the sub tree\n",
    "            tree[best_attribute][value] = subtree\n",
    "            \n",
    "        return(tree) \n",
    "        "
   ]
  },
  {
   "cell_type": "code",
   "execution_count": 9,
   "id": "7f1113e1",
   "metadata": {
    "scrolled": true
   },
   "outputs": [
    {
     "name": "stdout",
     "output_type": "stream",
     "text": [
      "The tree: \n",
      "{'Sex': {0: {'Pclass': {1.0: {'Age': {0: 0.0, 1: 1.0, 2: {'Parch': {0.0: {'SibSp': {0: 1.0, 1: 1.0}}, 1.0: 1.0, 2.0: {'SibSp': {0: 1.0, 1: 1.0}}}}}}, 2.0: {'Parch': {0.0: {'Age': {1: 1.0, 2: {'SibSp': {0: 1.0, 1: 1.0}}}}, 1.0: {'SibSp': {0: 1.0, 1: {'Age': {0: 1.0, 1: 1.0, 2: 1.0}}}}, 2.0: 1.0, 3.0: 1.0}}, 3.0: {'Parch': {0.0: {'Age': {1: {'SibSp': {0: 1.0, 1: 1.0}}, 2: {'SibSp': {0: 1.0, 1: 1.0}}}}, 1.0: {'Age': {0: {'SibSp': {0: 1.0, 1: 1.0}}, 1: {'SibSp': {0: 1.0, 1: 0.0}}, 2: {'SibSp': {0: 0.0, 1: 0.0}}}}, 2.0: {'SibSp': {0: {'Age': {0: 1.0, 1: 1.0, 2: 1.0}}, 1: {'Age': {0: 0.0, 1: 0.0, 2: 0.0}}}}, 3.0: 0.0, 4.0: 0.0, 5.0: {'SibSp': {0: 0.0, 1: 0.0}}, 6.0: 0.0}}}}, 1: {'Pclass': {1.0: {'Age': {0: 1.0, 1: 1.0, 2: {'SibSp': {0: {'Parch': {0.0: 0.0, 1.0: 0.0, 2.0: 0.0}}, 1: {'Parch': {0.0: 0.0, 1.0: 0.0, 2.0: 0.0, 4.0: 0.0}}}}, 3: {'SibSp': {0: {'Parch': {0.0: 0.0}}, 1: 0.0}}}}, 2.0: {'Age': {0: 1.0, 1: {'SibSp': {0: 0.0, 1: 1.0}}, 2: {'Parch': {0.0: {'SibSp': {0: 0.0, 1: 0.0}}, 1.0: 0.0, 2.0: 0.0}}, 3: 0.0}}, 3.0: {'Parch': {0.0: {'Age': {1: {'SibSp': {0: 0.0, 1: 0.0}}, 2: {'SibSp': {0: 0.0, 1: 0.0}}, 3: 0.0}}, 1.0: {'SibSp': {0: {'Age': {0: 1.0, 1: 1.0, 2: 0.0}}, 1: {'Age': {0: 0.0, 1: 0.0, 2: 0.0}}}}, 2.0: {'Age': {0: 0.0, 1: {'SibSp': {0: 1.0, 1: 0.0}}, 2: 0.0}}, 3.0: 0.0, 4.0: 0.0, 5.0: 0.0}}}}}}\n"
     ]
    }
   ],
   "source": [
    "features = ['Pclass', 'Sex', 'Age', 'SibSp', 'Parch']\n",
    "the_tree = make_tree(100, training_data, training_data, features)\n",
    "print(\"The tree: \\n\"+str(the_tree))"
   ]
  },
  {
   "cell_type": "code",
   "execution_count": 10,
   "id": "e5bc1e97",
   "metadata": {},
   "outputs": [],
   "source": [
    "def predict(query,tree,default = 1):\n",
    "    for key in list(query.keys()):\n",
    "        if key in list(tree.keys()):\n",
    "            try:\n",
    "                result = tree[key][query[key]] \n",
    "            except:\n",
    "                return default\n",
    "\n",
    "            result = tree[key][query[key]]\n",
    "            if isinstance(result,dict):\n",
    "                return predict(query,result)\n",
    "\n",
    "            else:\n",
    "                return result"
   ]
  },
  {
   "cell_type": "code",
   "execution_count": 11,
   "id": "216d6d1f",
   "metadata": {},
   "outputs": [],
   "source": [
    "def test(data,tree):\n",
    "    #Create new query instances by removing the target feature column and convert it to a dictionary\n",
    "    queries = data.iloc[:,:].to_dict(orient = \"records\")\n",
    "    \n",
    "    #Create a empty DataFrame in whose columns the prediction of the tree are stored\n",
    "    predicted = pd.DataFrame(columns=[\"predicted\"])\n",
    "    \n",
    "    #Calculate the prediction accuracy\n",
    "    for i in range(len(data)):\n",
    "        predicted.loc[i,\"predicted\"] = predict(queries[i],tree,1.0) \n",
    "    return predicted"
   ]
  },
  {
   "cell_type": "code",
   "execution_count": 12,
   "id": "03fac560",
   "metadata": {},
   "outputs": [],
   "source": [
    "#Output the learned tree as object code.\n",
    "\n",
    "# Make the titanic tree into object code\n",
    "filename = './output/object_code.sav'\n",
    "pickle.dump(the_tree, open(filename, 'wb'))\n",
    "\n",
    "# Convert it back\n",
    "tree_object_model = pickle.load(open(filename, 'rb'))"
   ]
  },
  {
   "cell_type": "code",
   "execution_count": 13,
   "id": "63c68579",
   "metadata": {},
   "outputs": [
    {
     "name": "stdout",
     "output_type": "stream",
     "text": [
      "Confusion Matrix: \n",
      "[[501  48]\n",
      " [104 238]]\n",
      "\n",
      "Accuracy Score: \n",
      "0.8294051627384961\n",
      "\n",
      "Precision Score: \n",
      "0.8321678321678322\n",
      "\n",
      "Recall Score: \n",
      "0.695906432748538\n",
      "\n"
     ]
    }
   ],
   "source": [
    "from sklearn.metrics import accuracy_score, precision_score, recall_score, f1_score, confusion_matrix\n",
    "\n",
    "training_data2 = pd.read_csv(\"train.csv\")\n",
    "training_data2 = clean_data(training_data2)\n",
    "\n",
    "pre_data = test(training_data,the_tree).astype(int)\n",
    "result_data = training_data2['Survived'].astype(int)\n",
    "\n",
    "confusion_matrix = confusion_matrix(result_data.values, pre_data.values)\n",
    "print('Confusion Matrix: \\n' +str(confusion_matrix)+'\\n')\n",
    "accuracy_score = accuracy_score(result_data.values, pre_data.values)\n",
    "print('Accuracy Score: \\n' +str(accuracy_score)+'\\n')\n",
    "precision_score = precision_score(result_data.values, pre_data.values)\n",
    "print('Precision Score: \\n' +str(precision_score)+'\\n')\n",
    "recall_score = recall_score(result_data.values, pre_data.values)\n",
    "print('Recall Score: \\n' +str(recall_score)+'\\n')"
   ]
  },
  {
   "cell_type": "code",
   "execution_count": 14,
   "id": "662c4bfc",
   "metadata": {},
   "outputs": [
    {
     "data": {
      "image/png": "[encoded data removed]",
      "text/plain": [
       "<Figure size 432x288 with 1 Axes>"
      ]
     },
     "metadata": {
      "needs_background": "light"
     },
     "output_type": "display_data"
    }
   ],
   "source": [
    "import scikitplot as skplt\n",
    "import matplotlib.pyplot as plt\n",
    "import sklearn.metrics as metrics\n",
    "\n",
    "fpr, tpr, threshold = metrics.roc_curve(result_data.values, pre_data.values)\n",
    "roc_auc = metrics.auc(fpr, tpr)\n",
    "plt.title('AUC of Coded Decision Tree')\n",
    "plt.plot(fpr, tpr, 'b', label = 'AUC = %0.2f' % roc_auc)\n",
    "plt.legend(loc = 'upper left')\n",
    "plt.plot([0, 1], [0, 1],'r--')\n",
    "plt.xlim([0, 1])\n",
    "plt.ylim([0, 1])\n",
    "plt.ylabel('True Positive Rate')\n",
    "plt.xlabel('False Positive Rate')\n",
    "plt.show()"
   ]
  },
  {
   "cell_type": "code",
   "execution_count": 15,
   "id": "9eefd0d3",
   "metadata": {},
   "outputs": [
    {
     "name": "stdout",
     "output_type": "stream",
     "text": [
      "['Age', 'Parch', 'Pclass', 'Sex', 'SibSp']\n"
     ]
    }
   ],
   "source": [
    "test_data = pd.read_csv(\"train.csv\")\n",
    "test_data = clean_data(test_data)\n",
    "\n",
    "train_data = pd.read_csv(\"train.csv\")\n",
    "train_data = clean_data(train_data)\n",
    "\n",
    "attributes = ['Pclass', 'Sex', 'Age', 'SibSp', 'Parch']\n",
    "train_attributes = train_data[attributes]\n",
    "train_labels = train_data['Survived']\n",
    "test_attributes = test_data[attributes]\n",
    "dvec = DictVectorizer(sparse=False)\n",
    "#  The fit_transform function converts the feature vector into a feature value matrix\n",
    "train_attributes = dvec.fit_transform(train_attributes.to_dict(orient='records'))\n",
    "print(dvec.feature_names_)\n",
    "\n",
    "#  Decision tree model\n",
    "#  Construct ID3 decision tree\n",
    "clf = DecisionTreeClassifier(criterion='entropy')\n",
    "\n",
    "#  Decision tree training\n",
    "clf.fit(train_attributes, train_labels)\n",
    "\n",
    "#  Model prediction assessment\n",
    "test_attributes=dvec.transform(test_attributes.to_dict(orient='records'))\n",
    "\n",
    "#  Decision tree forecast\n",
    "pred_labels = clf.predict(test_attributes)\n",
    "\n",
    "#  Decision tree accuracy\n",
    "from sklearn.metrics import accuracy_score\n",
    "\n",
    "train_score = clf.score(train_attributes, train_labels)\n",
    "test_labels = test_data['Survived']\n",
    "test_score = accuracy_score(test_labels, pred_labels)"
   ]
  },
  {
   "cell_type": "code",
   "execution_count": 16,
   "id": "7337e2cc",
   "metadata": {},
   "outputs": [
    {
     "name": "stdout",
     "output_type": "stream",
     "text": [
      "Cross_val_score accuracy is: 0.7969288389513108\n"
     ]
    }
   ],
   "source": [
    "#  10 fold-to-confidence statistics decision tree accuracy\n",
    "cv_score = np.mean(cross_val_score(clf, train_attributes, train_labels, cv=10))\n",
    "print(u'Cross_val_score accuracy is: ' +str(cv_score))"
   ]
  },
  {
   "cell_type": "code",
   "execution_count": 17,
   "id": "838c430b",
   "metadata": {},
   "outputs": [
    {
     "data": {
      "text/plain": [
       "'titanic.pdf'"
      ]
     },
     "execution_count": 17,
     "metadata": {},
     "output_type": "execute_result"
    }
   ],
   "source": [
    "# Tree Visualization\n",
    "dot_data = tree.export_graphviz(clf, out_file=None)\n",
    "graph = graphviz.Source(dot_data)\n",
    "graph.view('titanic')"
   ]
  },
  {
   "cell_type": "code",
   "execution_count": 18,
   "id": "41b20dbe",
   "metadata": {},
   "outputs": [
    {
     "data": {
      "image/png": "[encoded data removed]",
      "text/plain": [
       "<Figure size 432x288 with 1 Axes>"
      ]
     },
     "metadata": {
      "needs_background": "light"
     },
     "output_type": "display_data"
    }
   ],
   "source": [
    "fpr, tpr, threshold = metrics.roc_curve(test_labels, pred_labels)\n",
    "roc_auc = metrics.auc(fpr, tpr)\n",
    "plt.title('AUC of Sklearn Decision Tree')\n",
    "plt.plot(fpr, tpr, 'b', label = 'AUC = %0.2f' % roc_auc)\n",
    "plt.legend(loc = 'upper left')\n",
    "plt.plot([0, 1], [0, 1],'r--')\n",
    "plt.xlim([0, 1])\n",
    "plt.ylim([0, 1])\n",
    "plt.ylabel('True Positive Rate')\n",
    "plt.xlabel('False Positive Rate')\n",
    "plt.show()"
   ]
  }
 ],
 "metadata": {
  "kernelspec": {
   "display_name": "Python 3",
   "language": "python",
   "name": "python3"
  },
  "language_info": {
   "codemirror_mode": {
    "name": "ipython",
    "version": 3
   },
   "file_extension": ".py",
   "mimetype": "text/x-python",
   "name": "python",
   "nbconvert_exporter": "python",
   "pygments_lexer": "ipython3",
   "version": "3.8.8"
  }
 },
 "nbformat": 4,
 "nbformat_minor": 5
}
